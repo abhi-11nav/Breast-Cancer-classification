{
  "nbformat": 4,
  "nbformat_minor": 0,
  "metadata": {
    "colab": {
      "provenance": [],
      "collapsed_sections": [],
      "authorship_tag": "ABX9TyP5XxH+TEw1CKUiEbOdfXIc",
      "include_colab_link": true
    },
    "kernelspec": {
      "name": "python3",
      "display_name": "Python 3"
    },
    "language_info": {
      "name": "python"
    },
    "accelerator": "GPU",
    "gpuClass": "standard"
  },
  "cells": [
    {
      "cell_type": "markdown",
      "metadata": {
        "id": "view-in-github",
        "colab_type": "text"
      },
      "source": [
        "<a href=\"https://colab.research.google.com/github/abhi-11nav/Breast-Cancer-classification/blob/main/Breast_Cancer_classsification.ipynb\" target=\"_parent\"><img src=\"https://colab.research.google.com/assets/colab-badge.svg\" alt=\"Open In Colab\"/></a>"
      ]
    },
    {
      "cell_type": "markdown",
      "source": [
        "# BREAST CANCER CLASSIFICATION MODEL \n",
        "\n",
        "##### This notebook aims at creating a model to classify breast ultrasound images into one of the three classes : benign, malignant and normal. \n",
        "\n",
        "\n",
        " **DATASET CREDITS : https://www.kaggle.com/datasets/aryashah2k/breast-ultrasound-images-dataset**\n",
        " \n",
        " Repository for this project can be found here : https://github.com/abhi-11nav/Breast-Cancer-classification/tree/main/Data"
      ],
      "metadata": {
        "id": "Y2FmtM8HTp6V"
      }
    },
    {
      "cell_type": "markdown",
      "source": [
        "."
      ],
      "metadata": {
        "id": "PpOREcRFUhrJ"
      }
    },
    {
      "cell_type": "code",
      "source": [
        "# Importing the necessary libraries \n",
        "\n",
        "import pandas as pd\n",
        "import numpy as np "
      ],
      "metadata": {
        "id": "8ipfqM9vTxPZ"
      },
      "execution_count": 79,
      "outputs": []
    },
    {
      "cell_type": "code",
      "source": [
        "# Cloning the github repository for data \n",
        "\n",
        "!git clone https://github.com/abhi-11nav/Breast-Cancer-classification.git"
      ],
      "metadata": {
        "colab": {
          "base_uri": "https://localhost:8080/"
        },
        "id": "aGGC7jEXUnlL",
        "outputId": "a45bd4f7-49e8-450f-951a-02f39d00e6ab"
      },
      "execution_count": 80,
      "outputs": [
        {
          "output_type": "stream",
          "name": "stdout",
          "text": [
            "fatal: destination path 'Breast-Cancer-classification' already exists and is not an empty directory.\n"
          ]
        }
      ]
    },
    {
      "cell_type": "markdown",
      "source": [
        "Sucessfully cloned"
      ],
      "metadata": {
        "id": "ow_WC948VeDJ"
      }
    },
    {
      "cell_type": "markdown",
      "source": [
        "### Splitting the folders into train and validation data"
      ],
      "metadata": {
        "id": "RpBO4wU5WdWA"
      }
    },
    {
      "cell_type": "code",
      "source": [
        "!pip install split-folders"
      ],
      "metadata": {
        "colab": {
          "base_uri": "https://localhost:8080/"
        },
        "id": "ZF3sutoKVhbu",
        "outputId": "1e3ef30f-6673-4e99-cee5-a3557090dd27"
      },
      "execution_count": 81,
      "outputs": [
        {
          "output_type": "stream",
          "name": "stdout",
          "text": [
            "Looking in indexes: https://pypi.org/simple, https://us-python.pkg.dev/colab-wheels/public/simple/\n",
            "Requirement already satisfied: split-folders in /usr/local/lib/python3.7/dist-packages (0.5.1)\n"
          ]
        }
      ]
    },
    {
      "cell_type": "code",
      "source": [
        "# directory where all the images are present \n",
        "image_directory = \"/content/Breast-Cancer-classification/Data\"\n",
        "\n",
        "# Directory where the training data will be stored\n",
        "!mkdir split_data\n",
        "\n",
        "train_directory = \"/content/split_data\""
      ],
      "metadata": {
        "id": "7WsrhnPCWrpO",
        "colab": {
          "base_uri": "https://localhost:8080/"
        },
        "outputId": "32de8bb4-70af-4bba-ae97-8d15c86f4116"
      },
      "execution_count": 82,
      "outputs": [
        {
          "output_type": "stream",
          "name": "stdout",
          "text": [
            "mkdir: cannot create directory ‘split_data’: File exists\n"
          ]
        }
      ]
    },
    {
      "cell_type": "code",
      "source": [
        "# Credits : https://medium.com/nerd-for-tech/easily-split-your-directory-into-train-validation-and-testing-format-f1359f34dd93\n",
        "\n",
        "import splitfolders\n",
        "\n",
        "splitfolders.ratio(image_directory, # The location of dataset\n",
        "                   output=train_directory, # The output location\n",
        "                   ratio=(.85,.15), # The ratio of splited dataset\n",
        "                   group_prefix=None, # If your dataset contains more than one file like \".jpg\", \".pdf\", etc\n",
        "                   move=True # If you choose to move, turn this into True\n",
        "                   )"
      ],
      "metadata": {
        "colab": {
          "base_uri": "https://localhost:8080/"
        },
        "id": "V6puWlFiWyt3",
        "outputId": "c71b5ee4-e66c-4b59-c39c-f86bda21cc89"
      },
      "execution_count": 83,
      "outputs": [
        {
          "output_type": "stream",
          "name": "stderr",
          "text": [
            "Copying files: 0 files [00:00, ? files/s]\n"
          ]
        }
      ]
    },
    {
      "cell_type": "code",
      "source": [
        "# Storing the paths of train and test data \n",
        "\n",
        "train_path = \"/content/split_data/train\"\n",
        "\n",
        "validation_path = \"/content/split_data/val\""
      ],
      "metadata": {
        "id": "9k1qfA4nagY_"
      },
      "execution_count": 84,
      "outputs": []
    },
    {
      "cell_type": "code",
      "source": [
        "# Importing the necessary libraries to build the model \n",
        "\n",
        "import tensorflow as tf\n",
        "from tensorflow import keras \n",
        "\n",
        "from keras.layers import Dense, Flatten, Input\n",
        "from keras.models import Model, Sequential\n",
        "from keras.preprocessing import image \n",
        "from keras.preprocessing.image import ImageDataGenerator\n",
        "\n",
        "from keras.applications.vgg19 import VGG19"
      ],
      "metadata": {
        "id": "PLpWddmzfPnd"
      },
      "execution_count": 85,
      "outputs": []
    },
    {
      "cell_type": "code",
      "source": [
        "# Declaring the standard input size for images \n",
        "img_size = [224,224]\n",
        "model = VGG19(include_top=False, weights=\"imagenet\",input_shape = img_size+[3])"
      ],
      "metadata": {
        "id": "cUWIDQFmoKhZ"
      },
      "execution_count": 86,
      "outputs": []
    },
    {
      "cell_type": "code",
      "source": [
        "# Retaining the weights of the pre-traiined model upto 17 layers \n",
        "\n",
        "for layers in model.layers[:12]:\n",
        "  layers.trainable = False"
      ],
      "metadata": {
        "id": "RZUtWjDM31uw"
      },
      "execution_count": 87,
      "outputs": []
    },
    {
      "cell_type": "code",
      "source": [
        "from glob import glob \n",
        "\n",
        "class_count = len(glob(image_directory+\"/*\"))\n",
        "\n",
        "print(class_count,\"images to be classified\")"
      ],
      "metadata": {
        "colab": {
          "base_uri": "https://localhost:8080/"
        },
        "id": "OLwLLb58q5w-",
        "outputId": "f03f4c39-2260-47a7-db30-bd7d6e63cce0"
      },
      "execution_count": 88,
      "outputs": [
        {
          "output_type": "stream",
          "name": "stdout",
          "text": [
            "3 images to be classified\n"
          ]
        }
      ]
    },
    {
      "cell_type": "code",
      "source": [
        "glob(image_directory+\"/*\")"
      ],
      "metadata": {
        "colab": {
          "base_uri": "https://localhost:8080/"
        },
        "id": "AgWECzskzvbc",
        "outputId": "fc029801-4392-4b00-a21c-0fcae8b05f14"
      },
      "execution_count": 89,
      "outputs": [
        {
          "output_type": "execute_result",
          "data": {
            "text/plain": [
              "['/content/Breast-Cancer-classification/Data/normal',\n",
              " '/content/Breast-Cancer-classification/Data/malignant',\n",
              " '/content/Breast-Cancer-classification/Data/benign']"
            ]
          },
          "metadata": {},
          "execution_count": 89
        }
      ]
    },
    {
      "cell_type": "markdown",
      "source": [
        "### Final 3 layers of the model - These help modify the model to suit our data \n",
        "\n",
        "1) additional_layer = final dense layer in the model \n",
        "\n",
        "2) Flatten layer = Flattens the input into 1d array\n",
        "\n",
        "3) output layer = It is the prediction layer with softmax activation, so as to predict one of three classes"
      ],
      "metadata": {
        "id": "wvvQgEPNsVjJ"
      }
    },
    {
      "cell_type": "code",
      "source": [
        "flatten_layer = Flatten()(model.output)"
      ],
      "metadata": {
        "id": "xCewJZAXsHir"
      },
      "execution_count": 90,
      "outputs": []
    },
    {
      "cell_type": "code",
      "source": [
        "output_layer = Dense(class_count, activation=\"softmax\")(flatten_layer)"
      ],
      "metadata": {
        "id": "peE6yUH-sMHE"
      },
      "execution_count": 91,
      "outputs": []
    },
    {
      "cell_type": "code",
      "source": [
        "# Merging the additionals layers and initial pretrained model \n",
        "\n",
        "final_model = Model(inputs= model.input, outputs=output_layer)"
      ],
      "metadata": {
        "id": "BIFFJmiPujaH"
      },
      "execution_count": 92,
      "outputs": []
    },
    {
      "cell_type": "code",
      "source": [
        "# Printing the model structure \n",
        "\n",
        "final_model.summary()"
      ],
      "metadata": {
        "colab": {
          "base_uri": "https://localhost:8080/"
        },
        "id": "VsmqGpdXsUlV",
        "outputId": "a4c408b1-773f-499f-896d-32b798dfe68e"
      },
      "execution_count": 93,
      "outputs": [
        {
          "output_type": "stream",
          "name": "stdout",
          "text": [
            "Model: \"model_2\"\n",
            "_________________________________________________________________\n",
            " Layer (type)                Output Shape              Param #   \n",
            "=================================================================\n",
            " input_5 (InputLayer)        [(None, 224, 224, 3)]     0         \n",
            "                                                                 \n",
            " block1_conv1 (Conv2D)       (None, 224, 224, 64)      1792      \n",
            "                                                                 \n",
            " block1_conv2 (Conv2D)       (None, 224, 224, 64)      36928     \n",
            "                                                                 \n",
            " block1_pool (MaxPooling2D)  (None, 112, 112, 64)      0         \n",
            "                                                                 \n",
            " block2_conv1 (Conv2D)       (None, 112, 112, 128)     73856     \n",
            "                                                                 \n",
            " block2_conv2 (Conv2D)       (None, 112, 112, 128)     147584    \n",
            "                                                                 \n",
            " block2_pool (MaxPooling2D)  (None, 56, 56, 128)       0         \n",
            "                                                                 \n",
            " block3_conv1 (Conv2D)       (None, 56, 56, 256)       295168    \n",
            "                                                                 \n",
            " block3_conv2 (Conv2D)       (None, 56, 56, 256)       590080    \n",
            "                                                                 \n",
            " block3_conv3 (Conv2D)       (None, 56, 56, 256)       590080    \n",
            "                                                                 \n",
            " block3_conv4 (Conv2D)       (None, 56, 56, 256)       590080    \n",
            "                                                                 \n",
            " block3_pool (MaxPooling2D)  (None, 28, 28, 256)       0         \n",
            "                                                                 \n",
            " block4_conv1 (Conv2D)       (None, 28, 28, 512)       1180160   \n",
            "                                                                 \n",
            " block4_conv2 (Conv2D)       (None, 28, 28, 512)       2359808   \n",
            "                                                                 \n",
            " block4_conv3 (Conv2D)       (None, 28, 28, 512)       2359808   \n",
            "                                                                 \n",
            " block4_conv4 (Conv2D)       (None, 28, 28, 512)       2359808   \n",
            "                                                                 \n",
            " block4_pool (MaxPooling2D)  (None, 14, 14, 512)       0         \n",
            "                                                                 \n",
            " block5_conv1 (Conv2D)       (None, 14, 14, 512)       2359808   \n",
            "                                                                 \n",
            " block5_conv2 (Conv2D)       (None, 14, 14, 512)       2359808   \n",
            "                                                                 \n",
            " block5_conv3 (Conv2D)       (None, 14, 14, 512)       2359808   \n",
            "                                                                 \n",
            " block5_conv4 (Conv2D)       (None, 14, 14, 512)       2359808   \n",
            "                                                                 \n",
            " block5_pool (MaxPooling2D)  (None, 7, 7, 512)         0         \n",
            "                                                                 \n",
            " flatten_3 (Flatten)         (None, 25088)             0         \n",
            "                                                                 \n",
            " dense_2 (Dense)             (None, 3)                 75267     \n",
            "                                                                 \n",
            "=================================================================\n",
            "Total params: 20,099,651\n",
            "Trainable params: 17,774,083\n",
            "Non-trainable params: 2,325,568\n",
            "_________________________________________________________________\n"
          ]
        }
      ]
    },
    {
      "cell_type": "code",
      "source": [
        "# Proviidng a custom learning rate for our optimizer - the optimizer used is adam optimizer \n",
        "\n",
        "optimizer = keras.optimizers.Adam(learning_rate = 1e-6)"
      ],
      "metadata": {
        "id": "O_wTbVZ6lOa_"
      },
      "execution_count": 94,
      "outputs": []
    },
    {
      "cell_type": "code",
      "source": [
        "# Compiling the final model \n",
        "\n",
        "final_model.compile(optimizer=optimizer,loss='categorical_crossentropy',metrics='accuracy')"
      ],
      "metadata": {
        "id": "PXYZhU9SuaiT"
      },
      "execution_count": 95,
      "outputs": []
    },
    {
      "cell_type": "code",
      "source": [
        "# Data Augmentation\n",
        "\n",
        "train_datagen = ImageDataGenerator(rescale = 1./255,\n",
        "                                   zoom_range = 0.3,\n",
        "                                   shear_range=0.2,\n",
        "                                   horizontal_flip = True,\n",
        "                                   vertical_flip = True)\n",
        "\n",
        "test_datagen = ImageDataGenerator(rescale = 1./255)"
      ],
      "metadata": {
        "id": "HMSYT75gyYps"
      },
      "execution_count": 96,
      "outputs": []
    },
    {
      "cell_type": "code",
      "source": [
        "training_set = train_datagen.flow_from_directory(train_path, target_size=(224,224),batch_size=32, class_mode=\"categorical\")"
      ],
      "metadata": {
        "colab": {
          "base_uri": "https://localhost:8080/"
        },
        "id": "qCuDLAIJyq4e",
        "outputId": "b860e2d0-cfaa-4a6a-8b47-40f2492520ea"
      },
      "execution_count": 97,
      "outputs": [
        {
          "output_type": "stream",
          "name": "stdout",
          "text": [
            "Found 1260 images belonging to 3 classes.\n"
          ]
        }
      ]
    },
    {
      "cell_type": "code",
      "source": [
        "validation_set = test_datagen.flow_from_directory(validation_path, target_size=(224,224),batch_size=32, class_mode=\"categorical\")"
      ],
      "metadata": {
        "colab": {
          "base_uri": "https://localhost:8080/"
        },
        "id": "Q-cv18PSzDeC",
        "outputId": "fba482f5-168c-459e-ba56-d126157db470"
      },
      "execution_count": 98,
      "outputs": [
        {
          "output_type": "stream",
          "name": "stdout",
          "text": [
            "Found 318 images belonging to 3 classes.\n"
          ]
        }
      ]
    },
    {
      "cell_type": "code",
      "source": [
        "# Callback\n",
        "Early_stopping_cb = keras.callbacks.EarlyStopping(patience=10,restore_best_weights=True)"
      ],
      "metadata": {
        "id": "5wgU46jB6TkL"
      },
      "execution_count": 99,
      "outputs": []
    },
    {
      "cell_type": "code",
      "source": [
        "history = final_model.fit(training_set, validation_data = validation_set, epochs=35,callbacks=Early_stopping_cb)"
      ],
      "metadata": {
        "colab": {
          "base_uri": "https://localhost:8080/"
        },
        "id": "1O1-xx-czF_y",
        "outputId": "6c750247-7d7c-4da6-86d2-da4754a6339d"
      },
      "execution_count": 100,
      "outputs": [
        {
          "output_type": "stream",
          "name": "stdout",
          "text": [
            "Epoch 1/35\n",
            "40/40 [==============================] - 23s 560ms/step - loss: 1.0023 - accuracy: 0.5659 - val_loss: 0.9686 - val_accuracy: 0.5629\n",
            "Epoch 2/35\n",
            "40/40 [==============================] - 22s 554ms/step - loss: 0.9467 - accuracy: 0.5683 - val_loss: 0.9334 - val_accuracy: 0.5755\n",
            "Epoch 3/35\n",
            "40/40 [==============================] - 22s 546ms/step - loss: 0.9128 - accuracy: 0.5960 - val_loss: 0.8969 - val_accuracy: 0.5912\n",
            "Epoch 4/35\n",
            "40/40 [==============================] - 22s 557ms/step - loss: 0.8678 - accuracy: 0.6103 - val_loss: 0.8533 - val_accuracy: 0.6195\n",
            "Epoch 5/35\n",
            "40/40 [==============================] - 22s 540ms/step - loss: 0.8146 - accuracy: 0.6365 - val_loss: 0.8037 - val_accuracy: 0.6384\n",
            "Epoch 6/35\n",
            "40/40 [==============================] - 22s 543ms/step - loss: 0.7673 - accuracy: 0.6484 - val_loss: 0.7484 - val_accuracy: 0.6509\n",
            "Epoch 7/35\n",
            "40/40 [==============================] - 22s 546ms/step - loss: 0.7066 - accuracy: 0.6738 - val_loss: 0.6905 - val_accuracy: 0.6572\n",
            "Epoch 8/35\n",
            "40/40 [==============================] - 22s 541ms/step - loss: 0.6594 - accuracy: 0.7302 - val_loss: 0.6399 - val_accuracy: 0.7516\n",
            "Epoch 9/35\n",
            "40/40 [==============================] - 22s 559ms/step - loss: 0.5902 - accuracy: 0.7825 - val_loss: 0.5915 - val_accuracy: 0.7704\n",
            "Epoch 10/35\n",
            "40/40 [==============================] - 22s 557ms/step - loss: 0.5453 - accuracy: 0.7944 - val_loss: 0.5438 - val_accuracy: 0.7987\n",
            "Epoch 11/35\n",
            "40/40 [==============================] - 22s 547ms/step - loss: 0.5017 - accuracy: 0.8040 - val_loss: 0.5121 - val_accuracy: 0.7893\n",
            "Epoch 12/35\n",
            "40/40 [==============================] - 22s 543ms/step - loss: 0.4735 - accuracy: 0.8103 - val_loss: 0.4807 - val_accuracy: 0.7956\n",
            "Epoch 13/35\n",
            "40/40 [==============================] - 22s 548ms/step - loss: 0.4600 - accuracy: 0.8087 - val_loss: 0.4449 - val_accuracy: 0.8050\n",
            "Epoch 14/35\n",
            "40/40 [==============================] - 22s 549ms/step - loss: 0.4166 - accuracy: 0.8357 - val_loss: 0.4250 - val_accuracy: 0.8145\n",
            "Epoch 15/35\n",
            "40/40 [==============================] - 23s 561ms/step - loss: 0.4012 - accuracy: 0.8373 - val_loss: 0.4205 - val_accuracy: 0.8396\n",
            "Epoch 16/35\n",
            "40/40 [==============================] - 23s 568ms/step - loss: 0.3961 - accuracy: 0.8484 - val_loss: 0.4000 - val_accuracy: 0.8270\n",
            "Epoch 17/35\n",
            "40/40 [==============================] - 22s 554ms/step - loss: 0.3760 - accuracy: 0.8516 - val_loss: 0.3902 - val_accuracy: 0.8302\n",
            "Epoch 18/35\n",
            "40/40 [==============================] - 22s 549ms/step - loss: 0.3519 - accuracy: 0.8579 - val_loss: 0.3885 - val_accuracy: 0.8239\n",
            "Epoch 19/35\n",
            "40/40 [==============================] - 22s 549ms/step - loss: 0.3500 - accuracy: 0.8556 - val_loss: 0.3766 - val_accuracy: 0.8396\n",
            "Epoch 20/35\n",
            "40/40 [==============================] - 22s 551ms/step - loss: 0.3470 - accuracy: 0.8659 - val_loss: 0.3601 - val_accuracy: 0.8553\n",
            "Epoch 21/35\n",
            "40/40 [==============================] - 23s 563ms/step - loss: 0.3302 - accuracy: 0.8643 - val_loss: 0.3611 - val_accuracy: 0.8459\n",
            "Epoch 22/35\n",
            "40/40 [==============================] - 22s 553ms/step - loss: 0.3266 - accuracy: 0.8675 - val_loss: 0.3610 - val_accuracy: 0.8459\n",
            "Epoch 23/35\n",
            "40/40 [==============================] - 22s 553ms/step - loss: 0.3144 - accuracy: 0.8817 - val_loss: 0.3626 - val_accuracy: 0.8491\n",
            "Epoch 24/35\n",
            "40/40 [==============================] - 22s 558ms/step - loss: 0.3226 - accuracy: 0.8714 - val_loss: 0.3437 - val_accuracy: 0.8616\n",
            "Epoch 25/35\n",
            "40/40 [==============================] - 22s 549ms/step - loss: 0.2985 - accuracy: 0.8810 - val_loss: 0.3513 - val_accuracy: 0.8553\n",
            "Epoch 26/35\n",
            "40/40 [==============================] - 22s 547ms/step - loss: 0.2985 - accuracy: 0.8865 - val_loss: 0.3533 - val_accuracy: 0.8491\n",
            "Epoch 27/35\n",
            "40/40 [==============================] - 23s 562ms/step - loss: 0.2984 - accuracy: 0.8730 - val_loss: 0.3380 - val_accuracy: 0.8585\n",
            "Epoch 28/35\n",
            "40/40 [==============================] - 22s 555ms/step - loss: 0.2978 - accuracy: 0.8817 - val_loss: 0.3342 - val_accuracy: 0.8553\n",
            "Epoch 29/35\n",
            "40/40 [==============================] - 22s 547ms/step - loss: 0.2974 - accuracy: 0.8746 - val_loss: 0.3299 - val_accuracy: 0.8742\n",
            "Epoch 30/35\n",
            "40/40 [==============================] - 22s 540ms/step - loss: 0.2866 - accuracy: 0.8865 - val_loss: 0.3280 - val_accuracy: 0.8742\n",
            "Epoch 31/35\n",
            "40/40 [==============================] - 22s 542ms/step - loss: 0.2700 - accuracy: 0.8921 - val_loss: 0.3313 - val_accuracy: 0.8553\n",
            "Epoch 32/35\n",
            "40/40 [==============================] - 22s 543ms/step - loss: 0.2856 - accuracy: 0.8857 - val_loss: 0.3367 - val_accuracy: 0.8522\n",
            "Epoch 33/35\n",
            "40/40 [==============================] - 22s 548ms/step - loss: 0.2739 - accuracy: 0.8921 - val_loss: 0.3292 - val_accuracy: 0.8711\n",
            "Epoch 34/35\n",
            "40/40 [==============================] - 22s 535ms/step - loss: 0.2682 - accuracy: 0.8960 - val_loss: 0.3305 - val_accuracy: 0.8585\n",
            "Epoch 35/35\n",
            "40/40 [==============================] - 22s 542ms/step - loss: 0.2644 - accuracy: 0.8984 - val_loss: 0.3322 - val_accuracy: 0.8648\n"
          ]
        }
      ]
    },
    {
      "cell_type": "markdown",
      "source": [
        "## PERFOMANCE VISUALIZATION OF THE MODEL "
      ],
      "metadata": {
        "id": "J1ee-GtT6jHQ"
      }
    },
    {
      "cell_type": "code",
      "source": [
        "import matplotlib.pyplot as plt \n",
        "%matplotlib inline"
      ],
      "metadata": {
        "id": "5_2Pso556NWm"
      },
      "execution_count": 101,
      "outputs": []
    },
    {
      "cell_type": "code",
      "source": [
        "plt.plot(history.history['loss'])\n",
        "plt.plot(history.history['val_loss'],color='red')"
      ],
      "metadata": {
        "colab": {
          "base_uri": "https://localhost:8080/",
          "height": 282
        },
        "id": "QZlJKhpW6S3w",
        "outputId": "eefdd929-a5c0-4a95-bd59-a62f39f5e296"
      },
      "execution_count": 102,
      "outputs": [
        {
          "output_type": "execute_result",
          "data": {
            "text/plain": [
              "[<matplotlib.lines.Line2D at 0x7efb2ac3d150>]"
            ]
          },
          "metadata": {},
          "execution_count": 102
        },
        {
          "output_type": "display_data",
          "data": {
            "text/plain": [
              "<Figure size 432x288 with 1 Axes>"
            ],
            "image/png": "[encoded data removed]"
          },
          "metadata": {
            "needs_background": "light"
          }
        }
      ]
    },
    {
      "cell_type": "code",
      "source": [
        "plt.plot(history.history['accuracy'])\n",
        "plt.plot(history.history['val_accuracy'], color='red')"
      ],
      "metadata": {
        "colab": {
          "base_uri": "https://localhost:8080/",
          "height": 282
        },
        "id": "2uD1F9VP6e4N",
        "outputId": "31ffe2e6-37f5-41f5-a6c5-fb53c100eb05"
      },
      "execution_count": 103,
      "outputs": [
        {
          "output_type": "execute_result",
          "data": {
            "text/plain": [
              "[<matplotlib.lines.Line2D at 0x7efb2abdcf50>]"
            ]
          },
          "metadata": {},
          "execution_count": 103
        },
        {
          "output_type": "display_data",
          "data": {
            "text/plain": [
              "<Figure size 432x288 with 1 Axes>"
            ],
            "image/png": "[encoded data removed]"
          },
          "metadata": {
            "needs_background": "light"
          }
        }
      ]
    },
    {
      "cell_type": "code",
      "source": [
        "plt.scatter(np.arange(1,36), history.history['accuracy'])\n",
        "plt.plot(history.history['accuracy'])\n",
        "plt.scatter(np.arange(1,36), history.history['val_accuracy'])\n",
        "plt.plot(history.history['val_accuracy'])"
      ],
      "metadata": {
        "colab": {
          "base_uri": "https://localhost:8080/",
          "height": 282
        },
        "id": "bV6yB481_yrt",
        "outputId": "4a4472d9-b81a-4f4d-f672-6f47bbd00f9e"
      },
      "execution_count": 105,
      "outputs": [
        {
          "output_type": "execute_result",
          "data": {
            "text/plain": [
              "[<matplotlib.lines.Line2D at 0x7efb19229d90>]"
            ]
          },
          "metadata": {},
          "execution_count": 105
        },
        {
          "output_type": "display_data",
          "data": {
            "text/plain": [
              "<Figure size 432x288 with 1 Axes>"
            ],
            "image/png": "[encoded data removed]"
          },
          "metadata": {
            "needs_background": "light"
          }
        }
      ]
    },
    {
      "cell_type": "code",
      "source": [
        "# Saving the model \n",
        "\n",
        "final_model.save(\"model.h5\")"
      ],
      "metadata": {
        "id": "bjX9u5fu6rL6"
      },
      "execution_count": 107,
      "outputs": []
    },
    {
      "cell_type": "code",
      "source": [],
      "metadata": {
        "id": "ydTLI8IMhaND"
      },
      "execution_count": 107,
      "outputs": []
    },
    {
      "cell_type": "code",
      "source": [],
      "metadata": {
        "id": "9JQHfsIHhaRa"
      },
      "execution_count": 107,
      "outputs": []
    },
    {
      "cell_type": "markdown",
      "source": [
        "# DEBUGGING"
      ],
      "metadata": {
        "id": "PMjadXeUhair"
      }
    },
    {
      "cell_type": "code",
      "source": [
        "import cv2"
      ],
      "metadata": {
        "id": "4wTkGSd-hd--"
      },
      "execution_count": 108,
      "outputs": []
    },
    {
      "cell_type": "code",
      "source": [
        "img = cv2.imread(\"/content/split_data/train/benign/benign (1)_mask.png\")\n",
        "img = cv2.resize(img, [224,224])"
      ],
      "metadata": {
        "id": "scmm-XFgiRZm"
      },
      "execution_count": 109,
      "outputs": []
    },
    {
      "cell_type": "code",
      "source": [
        "layer_names = []"
      ],
      "metadata": {
        "id": "G_1YwsJe7DFY"
      },
      "execution_count": 110,
      "outputs": []
    },
    {
      "cell_type": "code",
      "source": [
        "for layer in final_model.layers[:8]:\n",
        "  layer_names.append(layer.name)\n",
        "print(layer_names)"
      ],
      "metadata": {
        "colab": {
          "base_uri": "https://localhost:8080/"
        },
        "id": "eNyxPg43gpr1",
        "outputId": "508781dc-5693-4d1f-de3f-2a3e9e46c398"
      },
      "execution_count": 111,
      "outputs": [
        {
          "output_type": "stream",
          "name": "stdout",
          "text": [
            "['input_5', 'block1_conv1', 'block1_conv2', 'block1_pool', 'block2_conv1', 'block2_conv2', 'block2_pool', 'block3_conv1']\n"
          ]
        }
      ]
    },
    {
      "cell_type": "code",
      "source": [
        "img_tensor = np.expand_dims(img, axis = 0)"
      ],
      "metadata": {
        "id": "rZ3kSTLkjKj9"
      },
      "execution_count": 112,
      "outputs": []
    },
    {
      "cell_type": "code",
      "source": [
        "layer_outputs = [layer.output for layer in final_model.layers[:8]]"
      ],
      "metadata": {
        "id": "7822nNJlkEiO"
      },
      "execution_count": 113,
      "outputs": []
    },
    {
      "cell_type": "code",
      "source": [
        "print(img_tensor.shape)"
      ],
      "metadata": {
        "colab": {
          "base_uri": "https://localhost:8080/"
        },
        "id": "AhgHmMjnjL7o",
        "outputId": "12086095-f201-4ae5-dd82-c7890565dd64"
      },
      "execution_count": 114,
      "outputs": [
        {
          "output_type": "stream",
          "name": "stdout",
          "text": [
            "(1, 224, 224, 3)\n"
          ]
        }
      ]
    },
    {
      "cell_type": "code",
      "source": [
        "activation_model = Model(inputs = final_model.input, outputs = layer_outputs)\n",
        "activations = activation_model.predict(img_tensor)"
      ],
      "metadata": {
        "colab": {
          "base_uri": "https://localhost:8080/"
        },
        "id": "-xBCezZgjeDq",
        "outputId": "45e1aa5b-fb6f-4a88-90db-9dc1494b795e"
      },
      "execution_count": 115,
      "outputs": [
        {
          "output_type": "stream",
          "name": "stdout",
          "text": [
            "1/1 [==============================] - 1s 511ms/step\n"
          ]
        }
      ]
    },
    {
      "cell_type": "code",
      "source": [
        "len(activations)"
      ],
      "metadata": {
        "colab": {
          "base_uri": "https://localhost:8080/"
        },
        "id": "XCTtB-CHjuD2",
        "outputId": "2e3adc51-8b92-41a0-e164-1e12ba56d34a"
      },
      "execution_count": 116,
      "outputs": [
        {
          "output_type": "execute_result",
          "data": {
            "text/plain": [
              "8"
            ]
          },
          "metadata": {},
          "execution_count": 116
        }
      ]
    },
    {
      "cell_type": "code",
      "source": [],
      "metadata": {
        "id": "7XQ3SvGRkdlF"
      },
      "execution_count": 116,
      "outputs": []
    },
    {
      "cell_type": "code",
      "source": [
        "from google.colab.patches import cv2_imshow"
      ],
      "metadata": {
        "id": "PGeGtPRglY75"
      },
      "execution_count": 117,
      "outputs": []
    },
    {
      "cell_type": "code",
      "source": [
        "for i in range(0,len(activations)):\n",
        "  plt.matshow(activations[i][0, :, :, 2], cmap ='viridis')"
      ],
      "metadata": {
        "colab": {
          "base_uri": "https://localhost:8080/",
          "height": 1000
        },
        "id": "SdLvvUSckOv4",
        "outputId": "d43197d1-afc2-47ed-f1fc-e993194bc6e4"
      },
      "execution_count": 118,
      "outputs": [
        {
          "output_type": "display_data",
          "data": {
            "text/plain": [
              "<Figure size 288x288 with 1 Axes>"
            ],
            "image/png": "[encoded data removed]"
          },
          "metadata": {
            "needs_background": "light"
          }
        },
        {
          "output_type": "display_data",
          "data": {
            "text/plain": [
              "<Figure size 288x288 with 1 Axes>"
            ],
            "image/png": "[encoded data removed]"
          },
          "metadata": {
            "needs_background": "light"
          }
        },
        {
          "output_type": "display_data",
          "data": {
            "text/plain": [
              "<Figure size 288x288 with 1 Axes>"
            ],
            "image/png": "[encoded data removed]"
          },
          "metadata": {
            "needs_background": "light"
          }
        },
        {
          "output_type": "display_data",
          "data": {
            "text/plain": [
              "<Figure size 288x288 with 1 Axes>"
            ],
            "image/png": "[encoded data removed]"
          },
          "metadata": {
            "needs_background": "light"
          }
        },
        {
          "output_type": "display_data",
          "data": {
            "text/plain": [
              "<Figure size 288x288 with 1 Axes>"
            ],
            "image/png": "[encoded data removed]"
          },
          "metadata": {
            "needs_background": "light"
          }
        },
        {
          "output_type": "display_data",
          "data": {
            "text/plain": [
              "<Figure size 288x288 with 1 Axes>"
            ],
            "image/png": "[encoded data removed]"
          },
          "metadata": {
            "needs_background": "light"
          }
        },
        {
          "output_type": "display_data",
          "data": {
            "text/plain": [
              "<Figure size 288x288 with 1 Axes>"
            ],
            "image/png": "[encoded data removed]"
          },
          "metadata": {
            "needs_background": "light"
          }
        },
        {
          "output_type": "display_data",
          "data": {
            "text/plain": [
              "<Figure size 288x288 with 1 Axes>"
            ],
            "image/png": "[encoded data removed]"
          },
          "metadata": {
            "needs_background": "light"
          }
        }
      ]
    },
    {
      "cell_type": "code",
      "source": [],
      "metadata": {
        "id": "RHjpqktjkYED"
      },
      "execution_count": null,
      "outputs": []
    }
  ]
}